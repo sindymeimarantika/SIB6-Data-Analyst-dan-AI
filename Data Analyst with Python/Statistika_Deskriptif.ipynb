{
 "cells": [
  {
   "cell_type": "markdown",
   "metadata": {},
   "source": [
    "#### Nama : Sindy Mei Marantika\n",
    "#### Jalur Pembelajaran : Data Analyst dan AI"
   ]
  },
  {
   "cell_type": "code",
   "execution_count": 11,
   "metadata": {},
   "outputs": [
    {
     "name": "stdout",
     "output_type": "stream",
     "text": [
      "Requirement already satisfied: pandas in c:\\users\\asus\\appdata\\local\\programs\\python\\python310\\lib\\site-packages (2.2.2)\n",
      "Requirement already satisfied: pytz>=2020.1 in c:\\users\\asus\\appdata\\local\\programs\\python\\python310\\lib\\site-packages (from pandas) (2024.1)\n",
      "Requirement already satisfied: numpy>=1.22.4 in c:\\users\\asus\\appdata\\local\\programs\\python\\python310\\lib\\site-packages (from pandas) (1.26.4)\n",
      "Requirement already satisfied: python-dateutil>=2.8.2 in c:\\users\\asus\\appdata\\roaming\\python\\python310\\site-packages (from pandas) (2.9.0.post0)\n",
      "Requirement already satisfied: tzdata>=2022.7 in c:\\users\\asus\\appdata\\local\\programs\\python\\python310\\lib\\site-packages (from pandas) (2024.1)\n",
      "Requirement already satisfied: six>=1.5 in c:\\users\\asus\\appdata\\roaming\\python\\python310\\site-packages (from python-dateutil>=2.8.2->pandas) (1.16.0)\n",
      "Note: you may need to restart the kernel to use updated packages.\n"
     ]
    },
    {
     "name": "stderr",
     "output_type": "stream",
     "text": [
      "WARNING: You are using pip version 22.0.4; however, version 24.0 is available.\n",
      "You should consider upgrading via the 'c:\\Users\\ASUS\\AppData\\Local\\Programs\\Python\\Python310\\python.exe -m pip install --upgrade pip' command.\n"
     ]
    }
   ],
   "source": [
    "pip install pandas"
   ]
  },
  {
   "cell_type": "code",
   "execution_count": 12,
   "metadata": {},
   "outputs": [],
   "source": [
    "import pandas as pd"
   ]
  },
  {
   "cell_type": "code",
   "execution_count": 14,
   "metadata": {},
   "outputs": [
    {
     "ename": "FileNotFoundError",
     "evalue": "[Errno 2] No such file or directory: 'boat_data.csv'",
     "output_type": "error",
     "traceback": [
      "\u001b[1;31m---------------------------------------------------------------------------\u001b[0m",
      "\u001b[1;31mFileNotFoundError\u001b[0m                         Traceback (most recent call last)",
      "Cell \u001b[1;32mIn[14], line 1\u001b[0m\n\u001b[1;32m----> 1\u001b[0m df \u001b[38;5;241m=\u001b[39m \u001b[43mpd\u001b[49m\u001b[38;5;241;43m.\u001b[39;49m\u001b[43mread_csv\u001b[49m\u001b[43m(\u001b[49m\u001b[38;5;124;43m\"\u001b[39;49m\u001b[38;5;124;43mboat_data.csv\u001b[39;49m\u001b[38;5;124;43m\"\u001b[39;49m\u001b[43m)\u001b[49m\n\u001b[0;32m      2\u001b[0m df\n",
      "File \u001b[1;32mc:\\Users\\ASUS\\AppData\\Local\\Programs\\Python\\Python310\\lib\\site-packages\\pandas\\io\\parsers\\readers.py:1026\u001b[0m, in \u001b[0;36mread_csv\u001b[1;34m(filepath_or_buffer, sep, delimiter, header, names, index_col, usecols, dtype, engine, converters, true_values, false_values, skipinitialspace, skiprows, skipfooter, nrows, na_values, keep_default_na, na_filter, verbose, skip_blank_lines, parse_dates, infer_datetime_format, keep_date_col, date_parser, date_format, dayfirst, cache_dates, iterator, chunksize, compression, thousands, decimal, lineterminator, quotechar, quoting, doublequote, escapechar, comment, encoding, encoding_errors, dialect, on_bad_lines, delim_whitespace, low_memory, memory_map, float_precision, storage_options, dtype_backend)\u001b[0m\n\u001b[0;32m   1013\u001b[0m kwds_defaults \u001b[38;5;241m=\u001b[39m _refine_defaults_read(\n\u001b[0;32m   1014\u001b[0m     dialect,\n\u001b[0;32m   1015\u001b[0m     delimiter,\n\u001b[1;32m   (...)\u001b[0m\n\u001b[0;32m   1022\u001b[0m     dtype_backend\u001b[38;5;241m=\u001b[39mdtype_backend,\n\u001b[0;32m   1023\u001b[0m )\n\u001b[0;32m   1024\u001b[0m kwds\u001b[38;5;241m.\u001b[39mupdate(kwds_defaults)\n\u001b[1;32m-> 1026\u001b[0m \u001b[38;5;28;01mreturn\u001b[39;00m \u001b[43m_read\u001b[49m\u001b[43m(\u001b[49m\u001b[43mfilepath_or_buffer\u001b[49m\u001b[43m,\u001b[49m\u001b[43m \u001b[49m\u001b[43mkwds\u001b[49m\u001b[43m)\u001b[49m\n",
      "File \u001b[1;32mc:\\Users\\ASUS\\AppData\\Local\\Programs\\Python\\Python310\\lib\\site-packages\\pandas\\io\\parsers\\readers.py:620\u001b[0m, in \u001b[0;36m_read\u001b[1;34m(filepath_or_buffer, kwds)\u001b[0m\n\u001b[0;32m    617\u001b[0m _validate_names(kwds\u001b[38;5;241m.\u001b[39mget(\u001b[38;5;124m\"\u001b[39m\u001b[38;5;124mnames\u001b[39m\u001b[38;5;124m\"\u001b[39m, \u001b[38;5;28;01mNone\u001b[39;00m))\n\u001b[0;32m    619\u001b[0m \u001b[38;5;66;03m# Create the parser.\u001b[39;00m\n\u001b[1;32m--> 620\u001b[0m parser \u001b[38;5;241m=\u001b[39m TextFileReader(filepath_or_buffer, \u001b[38;5;241m*\u001b[39m\u001b[38;5;241m*\u001b[39mkwds)\n\u001b[0;32m    622\u001b[0m \u001b[38;5;28;01mif\u001b[39;00m chunksize \u001b[38;5;129;01mor\u001b[39;00m iterator:\n\u001b[0;32m    623\u001b[0m     \u001b[38;5;28;01mreturn\u001b[39;00m parser\n",
      "File \u001b[1;32mc:\\Users\\ASUS\\AppData\\Local\\Programs\\Python\\Python310\\lib\\site-packages\\pandas\\io\\parsers\\readers.py:1620\u001b[0m, in \u001b[0;36mTextFileReader.__init__\u001b[1;34m(self, f, engine, **kwds)\u001b[0m\n\u001b[0;32m   1617\u001b[0m     \u001b[38;5;28mself\u001b[39m\u001b[38;5;241m.\u001b[39moptions[\u001b[38;5;124m\"\u001b[39m\u001b[38;5;124mhas_index_names\u001b[39m\u001b[38;5;124m\"\u001b[39m] \u001b[38;5;241m=\u001b[39m kwds[\u001b[38;5;124m\"\u001b[39m\u001b[38;5;124mhas_index_names\u001b[39m\u001b[38;5;124m\"\u001b[39m]\n\u001b[0;32m   1619\u001b[0m \u001b[38;5;28mself\u001b[39m\u001b[38;5;241m.\u001b[39mhandles: IOHandles \u001b[38;5;241m|\u001b[39m \u001b[38;5;28;01mNone\u001b[39;00m \u001b[38;5;241m=\u001b[39m \u001b[38;5;28;01mNone\u001b[39;00m\n\u001b[1;32m-> 1620\u001b[0m \u001b[38;5;28mself\u001b[39m\u001b[38;5;241m.\u001b[39m_engine \u001b[38;5;241m=\u001b[39m \u001b[38;5;28;43mself\u001b[39;49m\u001b[38;5;241;43m.\u001b[39;49m\u001b[43m_make_engine\u001b[49m\u001b[43m(\u001b[49m\u001b[43mf\u001b[49m\u001b[43m,\u001b[49m\u001b[43m \u001b[49m\u001b[38;5;28;43mself\u001b[39;49m\u001b[38;5;241;43m.\u001b[39;49m\u001b[43mengine\u001b[49m\u001b[43m)\u001b[49m\n",
      "File \u001b[1;32mc:\\Users\\ASUS\\AppData\\Local\\Programs\\Python\\Python310\\lib\\site-packages\\pandas\\io\\parsers\\readers.py:1880\u001b[0m, in \u001b[0;36mTextFileReader._make_engine\u001b[1;34m(self, f, engine)\u001b[0m\n\u001b[0;32m   1878\u001b[0m     \u001b[38;5;28;01mif\u001b[39;00m \u001b[38;5;124m\"\u001b[39m\u001b[38;5;124mb\u001b[39m\u001b[38;5;124m\"\u001b[39m \u001b[38;5;129;01mnot\u001b[39;00m \u001b[38;5;129;01min\u001b[39;00m mode:\n\u001b[0;32m   1879\u001b[0m         mode \u001b[38;5;241m+\u001b[39m\u001b[38;5;241m=\u001b[39m \u001b[38;5;124m\"\u001b[39m\u001b[38;5;124mb\u001b[39m\u001b[38;5;124m\"\u001b[39m\n\u001b[1;32m-> 1880\u001b[0m \u001b[38;5;28mself\u001b[39m\u001b[38;5;241m.\u001b[39mhandles \u001b[38;5;241m=\u001b[39m \u001b[43mget_handle\u001b[49m\u001b[43m(\u001b[49m\n\u001b[0;32m   1881\u001b[0m \u001b[43m    \u001b[49m\u001b[43mf\u001b[49m\u001b[43m,\u001b[49m\n\u001b[0;32m   1882\u001b[0m \u001b[43m    \u001b[49m\u001b[43mmode\u001b[49m\u001b[43m,\u001b[49m\n\u001b[0;32m   1883\u001b[0m \u001b[43m    \u001b[49m\u001b[43mencoding\u001b[49m\u001b[38;5;241;43m=\u001b[39;49m\u001b[38;5;28;43mself\u001b[39;49m\u001b[38;5;241;43m.\u001b[39;49m\u001b[43moptions\u001b[49m\u001b[38;5;241;43m.\u001b[39;49m\u001b[43mget\u001b[49m\u001b[43m(\u001b[49m\u001b[38;5;124;43m\"\u001b[39;49m\u001b[38;5;124;43mencoding\u001b[39;49m\u001b[38;5;124;43m\"\u001b[39;49m\u001b[43m,\u001b[49m\u001b[43m \u001b[49m\u001b[38;5;28;43;01mNone\u001b[39;49;00m\u001b[43m)\u001b[49m\u001b[43m,\u001b[49m\n\u001b[0;32m   1884\u001b[0m \u001b[43m    \u001b[49m\u001b[43mcompression\u001b[49m\u001b[38;5;241;43m=\u001b[39;49m\u001b[38;5;28;43mself\u001b[39;49m\u001b[38;5;241;43m.\u001b[39;49m\u001b[43moptions\u001b[49m\u001b[38;5;241;43m.\u001b[39;49m\u001b[43mget\u001b[49m\u001b[43m(\u001b[49m\u001b[38;5;124;43m\"\u001b[39;49m\u001b[38;5;124;43mcompression\u001b[39;49m\u001b[38;5;124;43m\"\u001b[39;49m\u001b[43m,\u001b[49m\u001b[43m \u001b[49m\u001b[38;5;28;43;01mNone\u001b[39;49;00m\u001b[43m)\u001b[49m\u001b[43m,\u001b[49m\n\u001b[0;32m   1885\u001b[0m \u001b[43m    \u001b[49m\u001b[43mmemory_map\u001b[49m\u001b[38;5;241;43m=\u001b[39;49m\u001b[38;5;28;43mself\u001b[39;49m\u001b[38;5;241;43m.\u001b[39;49m\u001b[43moptions\u001b[49m\u001b[38;5;241;43m.\u001b[39;49m\u001b[43mget\u001b[49m\u001b[43m(\u001b[49m\u001b[38;5;124;43m\"\u001b[39;49m\u001b[38;5;124;43mmemory_map\u001b[39;49m\u001b[38;5;124;43m\"\u001b[39;49m\u001b[43m,\u001b[49m\u001b[43m \u001b[49m\u001b[38;5;28;43;01mFalse\u001b[39;49;00m\u001b[43m)\u001b[49m\u001b[43m,\u001b[49m\n\u001b[0;32m   1886\u001b[0m \u001b[43m    \u001b[49m\u001b[43mis_text\u001b[49m\u001b[38;5;241;43m=\u001b[39;49m\u001b[43mis_text\u001b[49m\u001b[43m,\u001b[49m\n\u001b[0;32m   1887\u001b[0m \u001b[43m    \u001b[49m\u001b[43merrors\u001b[49m\u001b[38;5;241;43m=\u001b[39;49m\u001b[38;5;28;43mself\u001b[39;49m\u001b[38;5;241;43m.\u001b[39;49m\u001b[43moptions\u001b[49m\u001b[38;5;241;43m.\u001b[39;49m\u001b[43mget\u001b[49m\u001b[43m(\u001b[49m\u001b[38;5;124;43m\"\u001b[39;49m\u001b[38;5;124;43mencoding_errors\u001b[39;49m\u001b[38;5;124;43m\"\u001b[39;49m\u001b[43m,\u001b[49m\u001b[43m \u001b[49m\u001b[38;5;124;43m\"\u001b[39;49m\u001b[38;5;124;43mstrict\u001b[39;49m\u001b[38;5;124;43m\"\u001b[39;49m\u001b[43m)\u001b[49m\u001b[43m,\u001b[49m\n\u001b[0;32m   1888\u001b[0m \u001b[43m    \u001b[49m\u001b[43mstorage_options\u001b[49m\u001b[38;5;241;43m=\u001b[39;49m\u001b[38;5;28;43mself\u001b[39;49m\u001b[38;5;241;43m.\u001b[39;49m\u001b[43moptions\u001b[49m\u001b[38;5;241;43m.\u001b[39;49m\u001b[43mget\u001b[49m\u001b[43m(\u001b[49m\u001b[38;5;124;43m\"\u001b[39;49m\u001b[38;5;124;43mstorage_options\u001b[39;49m\u001b[38;5;124;43m\"\u001b[39;49m\u001b[43m,\u001b[49m\u001b[43m \u001b[49m\u001b[38;5;28;43;01mNone\u001b[39;49;00m\u001b[43m)\u001b[49m\u001b[43m,\u001b[49m\n\u001b[0;32m   1889\u001b[0m \u001b[43m\u001b[49m\u001b[43m)\u001b[49m\n\u001b[0;32m   1890\u001b[0m \u001b[38;5;28;01massert\u001b[39;00m \u001b[38;5;28mself\u001b[39m\u001b[38;5;241m.\u001b[39mhandles \u001b[38;5;129;01mis\u001b[39;00m \u001b[38;5;129;01mnot\u001b[39;00m \u001b[38;5;28;01mNone\u001b[39;00m\n\u001b[0;32m   1891\u001b[0m f \u001b[38;5;241m=\u001b[39m \u001b[38;5;28mself\u001b[39m\u001b[38;5;241m.\u001b[39mhandles\u001b[38;5;241m.\u001b[39mhandle\n",
      "File \u001b[1;32mc:\\Users\\ASUS\\AppData\\Local\\Programs\\Python\\Python310\\lib\\site-packages\\pandas\\io\\common.py:873\u001b[0m, in \u001b[0;36mget_handle\u001b[1;34m(path_or_buf, mode, encoding, compression, memory_map, is_text, errors, storage_options)\u001b[0m\n\u001b[0;32m    868\u001b[0m \u001b[38;5;28;01melif\u001b[39;00m \u001b[38;5;28misinstance\u001b[39m(handle, \u001b[38;5;28mstr\u001b[39m):\n\u001b[0;32m    869\u001b[0m     \u001b[38;5;66;03m# Check whether the filename is to be opened in binary mode.\u001b[39;00m\n\u001b[0;32m    870\u001b[0m     \u001b[38;5;66;03m# Binary mode does not support 'encoding' and 'newline'.\u001b[39;00m\n\u001b[0;32m    871\u001b[0m     \u001b[38;5;28;01mif\u001b[39;00m ioargs\u001b[38;5;241m.\u001b[39mencoding \u001b[38;5;129;01mand\u001b[39;00m \u001b[38;5;124m\"\u001b[39m\u001b[38;5;124mb\u001b[39m\u001b[38;5;124m\"\u001b[39m \u001b[38;5;129;01mnot\u001b[39;00m \u001b[38;5;129;01min\u001b[39;00m ioargs\u001b[38;5;241m.\u001b[39mmode:\n\u001b[0;32m    872\u001b[0m         \u001b[38;5;66;03m# Encoding\u001b[39;00m\n\u001b[1;32m--> 873\u001b[0m         handle \u001b[38;5;241m=\u001b[39m \u001b[38;5;28;43mopen\u001b[39;49m\u001b[43m(\u001b[49m\n\u001b[0;32m    874\u001b[0m \u001b[43m            \u001b[49m\u001b[43mhandle\u001b[49m\u001b[43m,\u001b[49m\n\u001b[0;32m    875\u001b[0m \u001b[43m            \u001b[49m\u001b[43mioargs\u001b[49m\u001b[38;5;241;43m.\u001b[39;49m\u001b[43mmode\u001b[49m\u001b[43m,\u001b[49m\n\u001b[0;32m    876\u001b[0m \u001b[43m            \u001b[49m\u001b[43mencoding\u001b[49m\u001b[38;5;241;43m=\u001b[39;49m\u001b[43mioargs\u001b[49m\u001b[38;5;241;43m.\u001b[39;49m\u001b[43mencoding\u001b[49m\u001b[43m,\u001b[49m\n\u001b[0;32m    877\u001b[0m \u001b[43m            \u001b[49m\u001b[43merrors\u001b[49m\u001b[38;5;241;43m=\u001b[39;49m\u001b[43merrors\u001b[49m\u001b[43m,\u001b[49m\n\u001b[0;32m    878\u001b[0m \u001b[43m            \u001b[49m\u001b[43mnewline\u001b[49m\u001b[38;5;241;43m=\u001b[39;49m\u001b[38;5;124;43m\"\u001b[39;49m\u001b[38;5;124;43m\"\u001b[39;49m\u001b[43m,\u001b[49m\n\u001b[0;32m    879\u001b[0m \u001b[43m        \u001b[49m\u001b[43m)\u001b[49m\n\u001b[0;32m    880\u001b[0m     \u001b[38;5;28;01melse\u001b[39;00m:\n\u001b[0;32m    881\u001b[0m         \u001b[38;5;66;03m# Binary mode\u001b[39;00m\n\u001b[0;32m    882\u001b[0m         handle \u001b[38;5;241m=\u001b[39m \u001b[38;5;28mopen\u001b[39m(handle, ioargs\u001b[38;5;241m.\u001b[39mmode)\n",
      "\u001b[1;31mFileNotFoundError\u001b[0m: [Errno 2] No such file or directory: 'boat_data.csv'"
     ]
    }
   ],
   "source": [
    "df = pd.read_csv(\"boat_data.csv\")\n",
    "df"
   ]
  },
  {
   "cell_type": "markdown",
   "metadata": {},
   "source": [
    "Hitunglah nilai rata-rata kolom Price, Lenght, Width dan Number of views last 7 days"
   ]
  },
  {
   "cell_type": "code",
   "execution_count": 5,
   "metadata": {},
   "outputs": [],
   "source": [
    "import re"
   ]
  },
  {
   "cell_type": "code",
   "execution_count": 6,
   "metadata": {},
   "outputs": [
    {
     "name": "stdout",
     "output_type": "stream",
     "text": [
      "Rata-rata price adalah: 320137.3415250809\n",
      "Rata-rata lenght adalah: 11.570017208219456\n",
      "Rata-rata width adalah: 3.5201240846216435\n",
      "Rata-rata view adalah: 149.1608009708738\n"
     ]
    }
   ],
   "source": [
    "# Membersihkan string price dan mengonversi ke dalam nilai numerik\n",
    "df['Price'] = df['Price'].apply(lambda x: int(re.search(r'\\d+', str(x)).group()) if isinstance(x, str) else x)\n",
    "\n",
    "# Menghitung rata-rata price\n",
    "rata_rata_price = df['Price'].mean()\n",
    "print(\"Rata-rata price adalah:\", rata_rata_price)\n",
    "\n",
    "# Menghitung rata-rata lenght\n",
    "mean_length = df['Length'].mean()\n",
    "print(\"Rata-rata lenght adalah:\", mean_length)\n",
    "\n",
    "# Menghitung rata-rata width\n",
    "mean_width = df['Width'].mean()\n",
    "print(\"Rata-rata width adalah:\", mean_width)\n",
    "\n",
    "# Menghitung rata-rata views\n",
    "mean_views = df['Number of views last 7 days'].mean()\n",
    "print(\"Rata-rata view adalah:\", mean_views)"
   ]
  },
  {
   "cell_type": "markdown",
   "metadata": {},
   "source": [
    "Hitunglah nilai modus kolom Price, Lenght, Width dan Number of views last 7 days"
   ]
  },
  {
   "cell_type": "code",
   "execution_count": 7,
   "metadata": {},
   "outputs": [],
   "source": [
    "import numpy as np"
   ]
  },
  {
   "cell_type": "code",
   "execution_count": 8,
   "metadata": {},
   "outputs": [
    {
     "name": "stdout",
     "output_type": "stream",
     "text": [
      "Modus Price: 65000\n",
      "Modus Length: 12.0\n",
      "Modus Width: 2.5\n",
      "Modus Number of views last 7 days: 68\n"
     ]
    }
   ],
   "source": [
    "# Menghitung modus\n",
    "modus_price = df['Price'].mode()[0]  # Menggunakan [0] karena mode() mengembalikan Series\n",
    "modus_length = df['Length'].mode()[0]\n",
    "modus_width = df['Width'].mode()[0]\n",
    "modus_views = df['Number of views last 7 days'].mode()[0]\n",
    "\n",
    "print(\"Modus Price:\", modus_price)\n",
    "print(\"Modus Length:\", modus_length)\n",
    "print(\"Modus Width:\", modus_width)\n",
    "print(\"Modus Number of views last 7 days:\", modus_views)"
   ]
  },
  {
   "cell_type": "markdown",
   "metadata": {},
   "source": [
    "Hitunglah nilai median kolom Price, Lenght, Width dan Number of views last 7 days"
   ]
  },
  {
   "cell_type": "code",
   "execution_count": 13,
   "metadata": {},
   "outputs": [
    {
     "name": "stdout",
     "output_type": "stream",
     "text": [
      "Median Price: 95000.0\n",
      "Median Length: nan\n",
      "Median Width: nan\n",
      "Median Number of views last 7 days: 108.0\n"
     ]
    }
   ],
   "source": [
    "# Menghitung median\n",
    "median_price = np.median(df['Price'])\n",
    "median_length = np.median(df['Length'])\n",
    "median_width = np.median(df['Width'])\n",
    "median_views = np.median(df['Number of views last 7 days'])\n",
    "\n",
    "print(\"Median Price:\", median_price)\n",
    "print(\"Median Length:\", median_length)\n",
    "print(\"Median Width:\", median_width)\n",
    "print(\"Median Number of views last 7 days:\", median_views)\n",
    "median_length = np.median(df['Length'])\n",
    "median_width = np.median(df['Width'])\n",
    "median_views = np.median(df['Number of views last 7 days'])\n",
    "\n",
    "print(\"Median Price:\", median_price)\n",
    "print(\"Median Length:\", median_length)\n",
    "print(\"Median Width:\", median_width)\n",
    "print(\"Median Number of views last 7 days:\", median_views)"
   ]
  },
  {
   "cell_type": "markdown",
   "metadata": {},
   "source": [
    "Hitunglah nilai range kolom Price, Lenght, Width dan Number of views last 7 days"
   ]
  },
  {
   "cell_type": "code",
   "execution_count": 16,
   "metadata": {},
   "outputs": [
    {
     "name": "stdout",
     "output_type": "stream",
     "text": [
      "Range Price: 30996700\n",
      "Range Length: 98.96\n",
      "Range Width: 25.15\n",
      "Range Number of views last 7 days: 3250\n"
     ]
    }
   ],
   "source": [
    "price_range = df['Price'].max() - df['Price'].min()\n",
    "length_range = df['Length'].max() - df['Length'].min()\n",
    "width_range = df['Width'].max() - df['Width'].min()\n",
    "views_range = df['Number of views last 7 days'].max() - df['Number of views last 7 days'].min()\n",
    "\n",
    "# Menampilkan hasil\n",
    "print(f\"Range Price: {price_range}\")\n",
    "print(f\"Range Length: {length_range}\")\n",
    "print(f\"Range Width: {width_range}\")\n",
    "print(f\"Range Number of views last 7 days: {views_range}\")"
   ]
  },
  {
   "cell_type": "markdown",
   "metadata": {},
   "source": [
    "Hitunglah nilai interquartile kolom Price, Lenght, Width dan Number of views last 7 days"
   ]
  },
  {
   "cell_type": "code",
   "execution_count": 17,
   "metadata": {},
   "outputs": [
    {
     "name": "stdout",
     "output_type": "stream",
     "text": [
      "IQR Price: 211000.0\n",
      "IQR Length: 6.46\n",
      "IQR Width: 1.71\n",
      "IQR Number of views last 7 days: 102.0\n"
     ]
    }
   ],
   "source": [
    "def calculate_iqr(column):\n",
    "    Q1 = column.quantile(0.25)\n",
    "    Q3 = column.quantile(0.75)\n",
    "    IQR = Q3 - Q1\n",
    "    return IQR\n",
    "\n",
    "price_iqr = calculate_iqr(df['Price'])\n",
    "length_iqr = calculate_iqr(df['Length'])\n",
    "width_iqr = calculate_iqr(df['Width'])\n",
    "views_iqr = calculate_iqr(df['Number of views last 7 days'])\n",
    "\n",
    "# Menampilkan hasil\n",
    "print(f\"IQR Price: {price_iqr}\")\n",
    "print(f\"IQR Length: {length_iqr}\")\n",
    "print(f\"IQR Width: {width_iqr}\")\n",
    "print(f\"IQR Number of views last 7 days: {views_iqr}\")"
   ]
  },
  {
   "cell_type": "markdown",
   "metadata": {},
   "source": [
    "Hitunglah nilai variance kolom Price, Lenght, Width dan Number of views last 7 days"
   ]
  },
  {
   "cell_type": "code",
   "execution_count": 18,
   "metadata": {},
   "outputs": [
    {
     "name": "stdout",
     "output_type": "stream",
     "text": [
      "Variance Price: 1015020456952.5901\n",
      "Variance Length: 36.03384339917742\n",
      "Variance Width: 1.489703982160183\n",
      "Variance Number of views last 7 days: 23049.237010868444\n"
     ]
    }
   ],
   "source": [
    "price_variance = df['Price'].var()\n",
    "length_variance = df['Length'].var()\n",
    "width_variance = df['Width'].var()\n",
    "views_variance = df['Number of views last 7 days'].var()\n",
    "\n",
    "# Menampilkan hasil\n",
    "print(f\"Variance Price: {price_variance}\")\n",
    "print(f\"Variance Length: {length_variance}\")\n",
    "print(f\"Variance Width: {width_variance}\")\n",
    "print(f\"Variance Number of views last 7 days: {views_variance}\")"
   ]
  },
  {
   "cell_type": "markdown",
   "metadata": {},
   "source": [
    "Hitunglah nilai rata-rata kolom Price, Lenght, Width dan Number of views last 7 days setiap perahu dibuat (hint: gunakan kolom Year Built)"
   ]
  },
  {
   "cell_type": "code",
   "execution_count": 19,
   "metadata": {},
   "outputs": [
    {
     "name": "stdout",
     "output_type": "stream",
     "text": [
      "                    Price     Length     Width  Number of views last 7 days\n",
      "Year Built                                                                 \n",
      "0           284115.014519   8.503122  2.864655                   131.219601\n",
      "1885        148000.000000  28.000000  5.600000                   160.000000\n",
      "1889         99000.000000  18.660000  4.160000                    83.000000\n",
      "1895        139500.000000  26.530000  4.500000                    33.000000\n",
      "1897         25000.000000   9.400000  3.200000                   119.000000\n",
      "...                   ...        ...       ...                          ...\n",
      "2017        522993.544586  11.134427  3.501286                   135.095541\n",
      "2018        384029.376068   9.726781  3.135530                   119.743590\n",
      "2019        302293.855204   8.672836  2.874106                   133.390649\n",
      "2020        440318.394840   8.753099  2.928630                   137.507428\n",
      "2021        230942.849057   8.953774  3.091887                   209.773585\n",
      "\n",
      "[122 rows x 4 columns]\n"
     ]
    }
   ],
   "source": [
    "average_values = df.groupby('Year Built')[['Price', 'Length', 'Width', 'Number of views last 7 days']].mean()\n",
    "\n",
    "# Langkah 3: Menampilkan hasil\n",
    "print(average_values)"
   ]
  },
  {
   "cell_type": "markdown",
   "metadata": {},
   "source": [
    "Hitunglah nilai modus kolom Price, Lenght, Width dan Number of views last 7 days setiap perahu dibuat (hint: gunakan kolom Year Built)"
   ]
  },
  {
   "cell_type": "code",
   "execution_count": 20,
   "metadata": {},
   "outputs": [
    {
     "name": "stdout",
     "output_type": "stream",
     "text": [
      "             Price  Length  Width  Number of views last 7 days\n",
      "Year Built                                                    \n",
      "0           125000    5.50   2.55                           80\n",
      "1885        148000   28.00   5.60                          160\n",
      "1889         99000   18.66   4.16                           83\n",
      "1895        139500   26.53   4.50                           33\n",
      "1897         25000    9.40   3.20                          119\n",
      "...            ...     ...    ...                          ...\n",
      "2017        139000    7.70   2.50                           81\n",
      "2018         39000    6.50   2.54                           46\n",
      "2019         69900    6.00   2.50                           76\n",
      "2020         39900    5.00   2.50                           62\n",
      "2021         18300    7.40   2.50                           98\n",
      "\n",
      "[122 rows x 4 columns]\n"
     ]
    }
   ],
   "source": [
    "# menghitung modus\n",
    "def calculate_mode(series):\n",
    "    return series.mode()[0] if not series.mode().empty else None\n",
    "\n",
    "# mengelompokkan data berdasarkan 'Year Built' dan menghitung modus untuk kolom yang diinginkan\n",
    "mode_values = df.groupby('Year Built').agg({\n",
    "    'Price': calculate_mode,\n",
    "    'Length': calculate_mode,\n",
    "    'Width': calculate_mode,\n",
    "    'Number of views last 7 days': calculate_mode\n",
    "})\n",
    "\n",
    "# menampilkan hasil\n",
    "print(mode_values)"
   ]
  },
  {
   "cell_type": "markdown",
   "metadata": {},
   "source": [
    "Hitunglah nilai median kolom Price, Lenght, Width dan Number of views last 7 days setiap perahu dibuat (hint: gunakan kolom Year Built)"
   ]
  },
  {
   "cell_type": "code",
   "execution_count": 21,
   "metadata": {},
   "outputs": [
    {
     "name": "stdout",
     "output_type": "stream",
     "text": [
      "               Price  Length  Width  Number of views last 7 days\n",
      "Year Built                                                      \n",
      "0            53100.0   7.230  2.545                        105.0\n",
      "1885        148000.0  28.000  5.600                        160.0\n",
      "1889         99000.0  18.660  4.160                         83.0\n",
      "1895        139500.0  26.530  4.500                         33.0\n",
      "1897         25000.0   9.400  3.200                        119.0\n",
      "...              ...     ...    ...                          ...\n",
      "2017        156000.0   9.985  3.210                        101.0\n",
      "2018         92407.0   8.030  2.770                         95.0\n",
      "2019         75521.0   7.300  2.540                        102.0\n",
      "2020         72000.0   7.420  2.540                        107.0\n",
      "2021        135247.0   8.000  2.590                        192.0\n",
      "\n",
      "[122 rows x 4 columns]\n"
     ]
    }
   ],
   "source": [
    "median_values = df.groupby('Year Built')[['Price', 'Length', 'Width', 'Number of views last 7 days']].median()\n",
    "\n",
    "# menampilkan hasil\n",
    "print(median_values)"
   ]
  },
  {
   "cell_type": "markdown",
   "metadata": {},
   "source": [
    "Hitunglah nilai range kolom Price, Lenght, Width dan Number of views last 7 days setiap perahu dibuat (hint: gunakan kolom Year Built)"
   ]
  },
  {
   "cell_type": "code",
   "execution_count": 22,
   "metadata": {},
   "outputs": [
    {
     "name": "stdout",
     "output_type": "stream",
     "text": [
      "               Price  Length  Width  Number of views last 7 days\n",
      "Year Built                                                      \n",
      "0           19896520   43.02   8.09                          607\n",
      "1885               0    0.00   0.00                            0\n",
      "1889               0    0.00   0.00                            0\n",
      "1895               0    0.00   0.00                            0\n",
      "1897               0    0.00   0.00                            0\n",
      "...              ...     ...    ...                          ...\n",
      "2017        10996663   35.90   9.32                          806\n",
      "2018        10796700   32.35   6.07                          677\n",
      "2019        11896667   34.21   9.45                         1681\n",
      "2020        30996510   52.70   9.97                         1695\n",
      "2021         1400586   13.96   7.35                          451\n",
      "\n",
      "[122 rows x 4 columns]\n"
     ]
    }
   ],
   "source": [
    "range_values = df.groupby('Year Built').agg({\n",
    "    'Price': lambda x: x.max() - x.min(),\n",
    "    'Length': lambda x: x.max() - x.min(),\n",
    "    'Width': lambda x: x.max() - x.min(),\n",
    "    'Number of views last 7 days': lambda x: x.max() - x.min()\n",
    "})\n",
    "\n",
    "# menampilkan hasil\n",
    "print(range_values)"
   ]
  },
  {
   "cell_type": "markdown",
   "metadata": {},
   "source": [
    "Hitunglah nilai interquartile kolom Price, Lenght, Width dan Number of views last 7 days setiap perahu dibuat (hint: gunakan kolom Year Built)"
   ]
  },
  {
   "cell_type": "code",
   "execution_count": 23,
   "metadata": {},
   "outputs": [
    {
     "name": "stdout",
     "output_type": "stream",
     "text": [
      "               Price  Length   Width  Number of views last 7 days\n",
      "Year Built                                                       \n",
      "0           104025.0  3.7250  0.8475                        89.50\n",
      "1885             0.0  0.0000  0.0000                         0.00\n",
      "1889             0.0  0.0000  0.0000                         0.00\n",
      "1895             0.0  0.0000  0.0000                         0.00\n",
      "1897             0.0  0.0000  0.0000                         0.00\n",
      "...              ...     ...     ...                          ...\n",
      "2017        371331.0  6.8175  1.6600                        96.75\n",
      "2018        218982.0  5.2550  1.3100                        94.00\n",
      "2019        184044.5  3.6150  0.6550                       101.00\n",
      "2020        167100.0  3.8600  0.9100                       105.50\n",
      "2021        142760.0  3.0600  0.4900                       153.00\n",
      "\n",
      "[122 rows x 4 columns]\n"
     ]
    }
   ],
   "source": [
    "def calculate_iqr(series):\n",
    "    q3 = series.quantile(0.75)\n",
    "    q1 = series.quantile(0.25)\n",
    "    return q3 - q1\n",
    "\n",
    "# mengelompokkan data berdasarkan 'Year Built' dan menghitung IQR untuk kolom yang diinginkan\n",
    "iqr_values = df.groupby('Year Built').agg({\n",
    "    'Price': calculate_iqr,\n",
    "    'Length': calculate_iqr,\n",
    "    'Width': calculate_iqr,\n",
    "    'Number of views last 7 days': calculate_iqr\n",
    "})\n",
    "\n",
    "# menampilkan hasil\n",
    "print(iqr_values)"
   ]
  },
  {
   "cell_type": "markdown",
   "metadata": {},
   "source": [
    "Hitunglah nilai variance kolom Price, Lenght, Width dan Number of views last 7 days setiap perahu dibuat (hint: gunakan kolom Year Built)"
   ]
  },
  {
   "cell_type": "code",
   "execution_count": 24,
   "metadata": {},
   "outputs": [
    {
     "name": "stdout",
     "output_type": "stream",
     "text": [
      "                   Price     Length     Width  Number of views last 7 days\n",
      "Year Built                                                                \n",
      "0           1.998557e+12  20.693079  1.106725                  8002.197142\n",
      "1885                 NaN        NaN       NaN                          NaN\n",
      "1889                 NaN        NaN       NaN                          NaN\n",
      "1895                 NaN        NaN       NaN                          NaN\n",
      "1897                 NaN        NaN       NaN                          NaN\n",
      "...                  ...        ...       ...                          ...\n",
      "2017        1.408837e+12  29.474560  1.589646                 11657.658574\n",
      "2018        1.029135e+12  25.014185  1.172710                  6828.042637\n",
      "2019        7.033289e+11  19.958178  1.026581                 14987.830547\n",
      "2020        3.090754e+12  21.679645  1.097934                 14508.771267\n",
      "2021        8.378107e+10  11.752824  1.878204                 10446.563135\n",
      "\n",
      "[122 rows x 4 columns]\n"
     ]
    }
   ],
   "source": [
    "variance_values = df.groupby('Year Built')[['Price', 'Length', 'Width', 'Number of views last 7 days']].var()\n",
    "\n",
    "# menampilkan hasil\n",
    "print(variance_values)"
   ]
  },
  {
   "cell_type": "markdown",
   "metadata": {},
   "source": [
    "Tampilkan visualisasi distribusi kolom Price menggunakan Kernel Density Estimate (KDE)"
   ]
  },
  {
   "cell_type": "code",
   "execution_count": 27,
   "metadata": {},
   "outputs": [
    {
     "name": "stdout",
     "output_type": "stream",
     "text": [
      "Collecting seaborn\n",
      "  Downloading seaborn-0.13.2-py3-none-any.whl (294 kB)\n",
      "     ------------------------------------ 294.9/294.9 KB 260.2 kB/s eta 0:00:00\n",
      "Requirement already satisfied: numpy!=1.24.0,>=1.20 in c:\\users\\asus\\appdata\\local\\programs\\python\\python310\\lib\\site-packages (from seaborn) (1.26.4)\n",
      "Requirement already satisfied: pandas>=1.2 in c:\\users\\asus\\appdata\\local\\programs\\python\\python310\\lib\\site-packages (from seaborn) (2.2.2)\n",
      "Collecting matplotlib!=3.6.1,>=3.4\n",
      "  Downloading matplotlib-3.9.0-cp310-cp310-win_amd64.whl (8.0 MB)\n",
      "     ---------------------------------------- 8.0/8.0 MB 233.7 kB/s eta 0:00:00\n",
      "Collecting contourpy>=1.0.1\n",
      "  Downloading contourpy-1.2.1-cp310-cp310-win_amd64.whl (187 kB)\n",
      "     ------------------------------------ 187.5/187.5 KB 222.6 kB/s eta 0:00:00\n",
      "Requirement already satisfied: packaging>=20.0 in c:\\users\\asus\\appdata\\roaming\\python\\python310\\site-packages (from matplotlib!=3.6.1,>=3.4->seaborn) (24.0)\n",
      "Collecting pillow>=8\n",
      "  Downloading pillow-10.3.0-cp310-cp310-win_amd64.whl (2.5 MB)\n",
      "     ---------------------------------------- 2.5/2.5 MB 164.8 kB/s eta 0:00:00\n",
      "Collecting pyparsing>=2.3.1\n",
      "  Downloading pyparsing-3.1.2-py3-none-any.whl (103 kB)\n",
      "     ------------------------------------ 103.2/103.2 KB 229.1 kB/s eta 0:00:00\n",
      "Collecting fonttools>=4.22.0\n",
      "  Downloading fonttools-4.51.0-cp310-cp310-win_amd64.whl (2.2 MB)\n",
      "     ---------------------------------------- 2.2/2.2 MB 140.7 kB/s eta 0:00:00\n",
      "Requirement already satisfied: python-dateutil>=2.7 in c:\\users\\asus\\appdata\\roaming\\python\\python310\\site-packages (from matplotlib!=3.6.1,>=3.4->seaborn) (2.9.0.post0)\n",
      "Collecting kiwisolver>=1.3.1\n",
      "  Downloading kiwisolver-1.4.5-cp310-cp310-win_amd64.whl (56 kB)\n",
      "     -------------------------------------- 56.1/56.1 KB 493.1 kB/s eta 0:00:00\n",
      "Collecting cycler>=0.10\n",
      "  Downloading cycler-0.12.1-py3-none-any.whl (8.3 kB)\n",
      "Requirement already satisfied: tzdata>=2022.7 in c:\\users\\asus\\appdata\\local\\programs\\python\\python310\\lib\\site-packages (from pandas>=1.2->seaborn) (2024.1)\n",
      "Requirement already satisfied: pytz>=2020.1 in c:\\users\\asus\\appdata\\local\\programs\\python\\python310\\lib\\site-packages (from pandas>=1.2->seaborn) (2024.1)\n",
      "Requirement already satisfied: six>=1.5 in c:\\users\\asus\\appdata\\roaming\\python\\python310\\site-packages (from python-dateutil>=2.7->matplotlib!=3.6.1,>=3.4->seaborn) (1.16.0)\n",
      "Installing collected packages: pyparsing, pillow, kiwisolver, fonttools, cycler, contourpy, matplotlib, seaborn\n",
      "Successfully installed contourpy-1.2.1 cycler-0.12.1 fonttools-4.51.0 kiwisolver-1.4.5 matplotlib-3.9.0 pillow-10.3.0 pyparsing-3.1.2 seaborn-0.13.2\n",
      "Note: you may need to restart the kernel to use updated packages.\n"
     ]
    },
    {
     "name": "stderr",
     "output_type": "stream",
     "text": [
      "WARNING: You are using pip version 22.0.4; however, version 24.0 is available.\n",
      "You should consider upgrading via the 'c:\\Users\\ASUS\\AppData\\Local\\Programs\\Python\\Python310\\python.exe -m pip install --upgrade pip' command.\n"
     ]
    }
   ],
   "source": [
    "pip install seaborn"
   ]
  },
  {
   "cell_type": "code",
   "execution_count": 28,
   "metadata": {},
   "outputs": [],
   "source": [
    "import pandas as pd\n",
    "import seaborn as sns\n",
    "import matplotlib.pyplot as plt"
   ]
  },
  {
   "cell_type": "code",
   "execution_count": 29,
   "metadata": {},
   "outputs": [
    {
     "name": "stderr",
     "output_type": "stream",
     "text": [
      "C:\\Users\\ASUS\\AppData\\Local\\Temp\\ipykernel_13048\\691254320.py:1: FutureWarning: \n",
      "\n",
      "`shade` is now deprecated in favor of `fill`; setting `fill=True`.\n",
      "This will become an error in seaborn v0.14.0; please update your code.\n",
      "\n",
      "  sns.kdeplot(data=df['Price'], shade=True)\n"
     ]
    },
    {
     "data": {
      "image/png": "[encoded data removed]",
      "text/plain": [
       "<Figure size 640x480 with 1 Axes>"
      ]
     },
     "metadata": {},
     "output_type": "display_data"
    }
   ],
   "source": [
    "sns.kdeplot(data=df['Price'], shade=True)\n",
    "plt.title('Distribusi Kolom Price')\n",
    "plt.xlabel('Price')\n",
    "plt.ylabel('Density')\n",
    "plt.show()\n"
   ]
  }
 ],
 "metadata": {
  "kernelspec": {
   "display_name": "Python 3",
   "language": "python",
   "name": "python3"
  },
  "language_info": {
   "codemirror_mode": {
    "name": "ipython",
    "version": 3
   },
   "file_extension": ".py",
   "mimetype": "text/x-python",
   "name": "python",
   "nbconvert_exporter": "python",
   "pygments_lexer": "ipython3",
   "version": "3.10.3"
  }
 },
 "nbformat": 4,
 "nbformat_minor": 2
}
