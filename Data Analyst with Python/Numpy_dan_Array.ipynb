{
 "cells": [
  {
   "cell_type": "markdown",
   "metadata": {},
   "source": [
    "#### Nama = Sindy Mei Marantika\n",
    "#### Jalur Pembelajaran = Data Analyst dan AI"
   ]
  },
  {
   "cell_type": "markdown",
   "metadata": {},
   "source": [
    "##### Tugas 1"
   ]
  },
  {
   "cell_type": "code",
   "execution_count": 8,
   "metadata": {},
   "outputs": [
    {
     "name": "stdout",
     "output_type": "stream",
     "text": [
      "event di maribelajar \n",
      " ['Webinar Yuk Pelajari Excel untuk Data Analyst', 'Global Azure AI Bootcamp 2024', 'MariBelajar Beasiswa Workshop Siswa', 'Reimagine Education Indonesia with Microsoft Technologies', 'MCT Summit Indonesia 2024']\n"
     ]
    }
   ],
   "source": [
    "# membuat list event MariBelajar\n",
    "event_maribelajar = [\n",
    "    \"Webinar Yuk Pelajari Excel untuk Data Analyst\",\n",
    "    \"Global Azure AI Bootcamp 2024\",\n",
    "    \"MariBelajar Beasiswa Workshop Siswa\",\n",
    "    \"Reimagine Education Indonesia with Microsoft Technologies\",\n",
    "    \"MCT Summit Indonesia 2024\"\n",
    "]\n",
    "print(\"event di maribelajar \\n\", event_maribelajar)"
   ]
  },
  {
   "cell_type": "code",
   "execution_count": 15,
   "metadata": {},
   "outputs": [
    {
     "name": "stdout",
     "output_type": "stream",
     "text": [
      "harga event MariBelajar \n",
      " [150000, 270000, 130000, 170000, 350000]\n"
     ]
    }
   ],
   "source": [
    "harga = {\n",
    "    \"Webinar Yuk Pelajari Excel untuk Data Analyst\" : 15,\n",
    "    \"Global Azure AI Bootcamp 2024\" : 27,\n",
    "    \"MariBelajar Beasiswa Workshop Siswa\" : 13,\n",
    "    \"Reimagine Education Indonesia with Microsoft Technologies\" : 17,\n",
    "    \"MCT Summit Indonesia 2024\" : 35\n",
    "}\n",
    "\n",
    "harga_event_mari_belajar = []\n",
    "\n",
    "# Mengalikan setiap harga dengan 10.000 dan menyimpannya dalam list harga_event_mari_belajar\n",
    "for judul, harga_per_event in harga.items():\n",
    "    harga_event_mari_belajar.append(harga_per_event * 10000)\n",
    "\n",
    "print(\"harga event MariBelajar \\n\", harga_event_mari_belajar)"
   ]
  },
  {
   "cell_type": "code",
   "execution_count": 16,
   "metadata": {},
   "outputs": [
    {
     "name": "stdout",
     "output_type": "stream",
     "text": [
      "event maribelajar berdasarkan urutan abjad \n",
      " ['Global Azure AI Bootcamp 2024', 'MCT Summit Indonesia 2024', 'MariBelajar Beasiswa Workshop Siswa', 'Reimagine Education Indonesia with Microsoft Technologies', 'Webinar Yuk Pelajari Excel untuk Data Analyst']\n"
     ]
    }
   ],
   "source": [
    "# mengurutkan event MariBelajar bersadarkan abjad\n",
    "event_maribelajar_sorted = sorted(event_maribelajar)\n",
    "print(\"event maribelajar berdasarkan urutan abjad \\n\",event_maribelajar_sorted )"
   ]
  },
  {
   "cell_type": "code",
   "execution_count": 17,
   "metadata": {},
   "outputs": [
    {
     "data": {
      "text/plain": [
       "['Global Azure AI Bootcamp 2024',\n",
       " 'MCT Summit Indonesia 2024',\n",
       " 'MariBelajar Beasiswa Workshop Siswa']"
      ]
     },
     "execution_count": 17,
     "metadata": {},
     "output_type": "execute_result"
    }
   ],
   "source": [
    "# mengambil 3 event pertama dari event maribelajar yang sudah diurutkan\n",
    "event_maribelajar_sorted[:3]"
   ]
  },
  {
   "cell_type": "code",
   "execution_count": 19,
   "metadata": {},
   "outputs": [
    {
     "data": {
      "text/plain": [
       "['MariBelajar Beasiswa Workshop Siswa',\n",
       " 'Reimagine Education Indonesia with Microsoft Technologies',\n",
       " 'Webinar Yuk Pelajari Excel untuk Data Analyst']"
      ]
     },
     "execution_count": 19,
     "metadata": {},
     "output_type": "execute_result"
    }
   ],
   "source": [
    "# mengambil 3 event terakhir dari event maribelajar yang sudah diurutkan\n",
    "event_maribelajar_sorted[-3:]"
   ]
  },
  {
   "cell_type": "code",
   "execution_count": 20,
   "metadata": {},
   "outputs": [
    {
     "name": "stdout",
     "output_type": "stream",
     "text": [
      "Harga terendah dari event MariBelajar: 130000\n",
      "Harga tertinggi dari event MariBelajar: 350000\n",
      "Rata-rata harga dari event MariBelajar: 214000.0\n",
      "Total pendapatan dari event MariBelajar: 1070000\n"
     ]
    }
   ],
   "source": [
    "# hitung harga terendah, tertinggi, rata2 harga dan total pendapatan dari harga event MariBelajar\n",
    "\n",
    "harga_terendah = min(harga_event_mari_belajar)\n",
    "\n",
    "harga_tertinggi = max(harga_event_mari_belajar)\n",
    "\n",
    "rata_rata_harga = sum(harga_event_mari_belajar) / len(harga_event_mari_belajar)\n",
    "\n",
    "total_pendapatan = sum(harga_event_mari_belajar)\n",
    "\n",
    "# Cetak hasil\n",
    "print(\"Harga terendah dari event MariBelajar:\", harga_terendah)\n",
    "print(\"Harga tertinggi dari event MariBelajar:\", harga_tertinggi)\n",
    "print(\"Rata-rata harga dari event MariBelajar:\", rata_rata_harga)\n",
    "print(\"Total pendapatan dari event MariBelajar:\", total_pendapatan)\n"
   ]
  },
  {
   "cell_type": "markdown",
   "metadata": {},
   "source": [
    "#### Nama = Sindy Mei Marantika\n",
    "#### Jalur Pembelajaran = Data Analyst dan AI"
   ]
  },
  {
   "cell_type": "markdown",
   "metadata": {},
   "source": [
    "##### Tugas 2"
   ]
  },
  {
   "cell_type": "code",
   "execution_count": 20,
   "metadata": {},
   "outputs": [
    {
     "name": "stdout",
     "output_type": "stream",
     "text": [
      "Array dari 40 bilangan genap pertama\n",
      " [2, 4, 6, 8, 10, 12, 14, 16, 18, 20, 22, 24, 26, 28, 30, 32, 34, 36, 38, 40, 42, 44, 46, 48, 50, 52, 54, 56, 58, 60, 62, 64, 66, 68, 70, 72, 74, 76, 78, 80]\n"
     ]
    }
   ],
   "source": [
    "# Buat array dari 40 bilangan genap pertama (dimulai dari 2)\n",
    "array_genap = [2 * i for i in range(1, 41)]\n",
    "print(\"Array dari 40 bilangan genap pertama\\n\", array_genap)\n"
   ]
  },
  {
   "cell_type": "code",
   "execution_count": 21,
   "metadata": {},
   "outputs": [
    {
     "name": "stdout",
     "output_type": "stream",
     "text": [
      "Array yang telah dikalikan dengan 10\n",
      " [20, 40, 60, 80, 100, 120, 140, 160, 180, 200, 220, 240, 260, 280, 300, 320, 340, 360, 380, 400, 420, 440, 460, 480, 500, 520, 540, 560, 580, 600, 620, 640, 660, 680, 700, 720, 740, 760, 780, 800]\n"
     ]
    }
   ],
   "source": [
    "# Kalikan array dengan 10\n",
    "array_kali_10 = [x * 10 for x in array_genap]\n",
    "print(\"Array yang telah dikalikan dengan 10\\n\", array_kali_10)"
   ]
  },
  {
   "cell_type": "code",
   "execution_count": 22,
   "metadata": {},
   "outputs": [
    {
     "name": "stdout",
     "output_type": "stream",
     "text": [
      "Array yang telah dibagi dengan 4\n",
      " [5.0, 10.0, 15.0, 20.0, 25.0, 30.0, 35.0, 40.0, 45.0, 50.0, 55.0, 60.0, 65.0, 70.0, 75.0, 80.0, 85.0, 90.0, 95.0, 100.0, 105.0, 110.0, 115.0, 120.0, 125.0, 130.0, 135.0, 140.0, 145.0, 150.0, 155.0, 160.0, 165.0, 170.0, 175.0, 180.0, 185.0, 190.0, 195.0, 200.0]\n"
     ]
    }
   ],
   "source": [
    "# Bagikan array yang telah dikalikan dengan 4\n",
    "array_bagi_4 = [x / 4 for x in array_kali_10]\n",
    "print(\"Array yang telah dibagi dengan 4\\n\", array_bagi_4)"
   ]
  },
  {
   "cell_type": "code",
   "execution_count": 23,
   "metadata": {},
   "outputs": [
    {
     "name": "stdout",
     "output_type": "stream",
     "text": [
      "Array baru\n",
      " [-39, -37, -35, -33, -31, -29, -27, -25, -23, -21, -19, -17, -15, -13, -11, -9, -7, -5, -3, -1, 1, 3, 5, 7, 9, 11, 13, 15, 17, 19, 21, 23, 25, 27, 29, 31, 33, 35, 37, 39]\n"
     ]
    }
   ],
   "source": [
    "# Buat array baru\n",
    "array_baru = [-39, -37, -35, -33, -31, -29, -27, -25, -23, -21,\n",
    "              -19, -17, -15, -13, -11, -9, -7, -5, -3, -1,\n",
    "               1, 3, 5, 7, 9, 11, 13, 15, 17, 19,\n",
    "               21, 23, 25, 27, 29, 31, 33, 35, 37, 39]\n",
    "print(\"Array baru\\n\", array_baru)"
   ]
  },
  {
   "cell_type": "code",
   "execution_count": 25,
   "metadata": {},
   "outputs": [
    {
     "name": "stdout",
     "output_type": "stream",
     "text": [
      "Array dari hasil mengalikan array bagi dengan array baru\n",
      " [-195.0, -370.0, -525.0, -660.0, -775.0, -870.0, -945.0, -1000.0, -1035.0, -1050.0, -1045.0, -1020.0, -975.0, -910.0, -825.0, -720.0, -595.0, -450.0, -285.0, -100.0, 105.0, 330.0, 575.0, 840.0, 1125.0, 1430.0, 1755.0, 2100.0, 2465.0, 2850.0, 3255.0, 3680.0, 4125.0, 4590.0, 5075.0, 5580.0, 6105.0, 6650.0, 7215.0, 7800.0]\n"
     ]
    }
   ],
   "source": [
    "# Kalikan hasil bagi array dengan array baru\n",
    "Array_final = [array_bagi_4[i] * array_baru[i] for i in range(len(array_bagi_4))]\n",
    "print(\"Array dari hasil mengalikan array bagi dengan array baru\\n\", Array_final)"
   ]
  },
  {
   "cell_type": "code",
   "execution_count": 26,
   "metadata": {},
   "outputs": [
    {
     "name": "stdout",
     "output_type": "stream",
     "text": [
      "indeks tertinggi dari Array final =  39\n",
      "indeks terendah dari Array final =  9\n"
     ]
    }
   ],
   "source": [
    "# Temukan nilai tertinggi dan terendah beserta indeksnya dari array terakhir\n",
    "nilai_tertinggi = max(Array_final)\n",
    "nilai_terendah = min(Array_final)\n",
    "index_tertinggi = hasil.index(nilai_tertinggi)\n",
    "index_terendah = hasil.index(nilai_terendah)\n",
    "\n",
    "print(\"indeks tertinggi dari Array final = \", index_tertinggi)\n",
    "print(\"indeks terendah dari Array final = \", index_terendah)"
   ]
  }
 ],
 "metadata": {
  "kernelspec": {
   "display_name": "Python 3",
   "language": "python",
   "name": "python3"
  },
  "language_info": {
   "codemirror_mode": {
    "name": "ipython",
    "version": 3
   },
   "file_extension": ".py",
   "mimetype": "text/x-python",
   "name": "python",
   "nbconvert_exporter": "python",
   "pygments_lexer": "ipython3",
   "version": "3.10.3"
  }
 },
 "nbformat": 4,
 "nbformat_minor": 2
}
